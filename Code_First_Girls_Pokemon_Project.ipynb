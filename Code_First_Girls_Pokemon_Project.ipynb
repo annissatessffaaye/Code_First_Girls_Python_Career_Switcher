{
  "nbformat": 4,
  "nbformat_minor": 0,
  "metadata": {
    "colab": {
      "name": "Code First Girls Project 1.ipynb",
      "provenance": [],
      "collapsed_sections": [],
      "authorship_tag": "ABX9TyP6jZTMvHKif8rAvpjBO+cv",
      "include_colab_link": true
    },
    "kernelspec": {
      "name": "python3",
      "display_name": "Python 3"
    },
    "language_info": {
      "name": "python"
    }
  },
  "cells": [
    {
      "cell_type": "markdown",
      "metadata": {
        "id": "view-in-github",
        "colab_type": "text"
      },
      "source": [
        "<a href=\"https://colab.research.google.com/github/annissatessffaaye/Code_First_Girls_Python_Career_Switcher/blob/main/Code_First_Girls_Pokemon_Project.ipynb\" target=\"_parent\"><img src=\"https://colab.research.google.com/assets/colab-badge.svg\" alt=\"Open In Colab\"/></a>"
      ]
    },
    {
      "cell_type": "code",
      "metadata": {
        "id": "YNxIwuDbedzA",
        "colab": {
          "base_uri": "https://localhost:8080/"
        },
        "outputId": "b40120d5-99a0-4320-9a57-d53ce2affb61"
      },
      "source": [
        "import random\n",
        "import requests\n",
        "\n",
        "def random_pokemon():\n",
        "    pokemon_number = random.randint(1, 151)\n",
        "    url = 'https://pokeapi.co/api/v2/pokemon/{}/'.format(pokemon_number)\n",
        "    response = requests.get(url)\n",
        "    pokemon = response.json()\n",
        "\n",
        "    return {\n",
        "    'name': pokemon['name'],\n",
        "    'id': pokemon['id'],\n",
        "    'height': pokemon['height'],\n",
        "    'weight': pokemon['weight'],\n",
        "}\n",
        "\n",
        "def run():\n",
        "  my_pokemon = random_pokemon()\n",
        "  print('You were given {}'.format(my_pokemon['name']))\n",
        "  \n",
        "  stat_choice = input('Which stat do you want to use? (id, height, weight) ')\n",
        "  opponent_pokemon = random_pokemon()\n",
        "  print('The opponent chose {}'.format(opponent_pokemon['name']))\n",
        "  \n",
        "  my_stat = my_pokemon[stat_choice]\n",
        "  opponent_stat = opponent_pokemon[stat_choice]\n",
        "\n",
        "  if my_stat > opponent_stat:\n",
        "    print('You Win!')\n",
        "  elif my_stat < opponent_stat:\n",
        "    print('You Lose!')\n",
        "  else:\n",
        "    print('Draw!')\n",
        "\n",
        "run()"
      ],
      "execution_count": null,
      "outputs": [
        {
          "output_type": "stream",
          "name": "stdout",
          "text": [
            "You were given victreebel\n",
            "Which stat do you want to use? (id, height, weight) weight\n",
            "The opponent chose tangela\n",
            "You Lose!\n"
          ]
        }
      ]
    }
  ]
}