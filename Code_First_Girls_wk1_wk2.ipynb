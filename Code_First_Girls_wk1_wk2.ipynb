{
  "nbformat": 4,
  "nbformat_minor": 0,
  "metadata": {
    "colab": {
      "name": "Code_First_Girls_wk1-wk2.ipynb",
      "provenance": [],
      "authorship_tag": "ABX9TyMz3YyGYNyxn241CeXqmXok",
      "include_colab_link": true
    },
    "kernelspec": {
      "name": "python3",
      "display_name": "Python 3"
    },
    "language_info": {
      "name": "python"
    }
  },
  "cells": [
    {
      "cell_type": "markdown",
      "metadata": {
        "id": "view-in-github",
        "colab_type": "text"
      },
      "source": [
        "<a href=\"https://colab.research.google.com/github/annissatessffaaye/Code_First_Girls_Python_Career_Switcher/blob/main/Code_First_Girls_wk1_wk2.ipynb\" target=\"_parent\"><img src=\"https://colab.research.google.com/assets/colab-badge.svg\" alt=\"Open In Colab\"/></a>"
      ]
    },
    {
      "cell_type": "code",
      "metadata": {
        "colab": {
          "base_uri": "https://localhost:8080/"
        },
        "id": "72NFH2yAFTiC",
        "outputId": "4ea37907-1320-4f89-9025-630172af159e"
      },
      "source": [
        "cats = 10\n",
        "cans = 2\n",
        "total_cans = cats * cans\n",
        "output = str(cats) + \" cats eat \" + str(total_cans) + \" cans\"\n",
        "print(output)"
      ],
      "execution_count": 1,
      "outputs": [
        {
          "output_type": "stream",
          "name": "stdout",
          "text": [
            "10 cats eat 20 cans\n"
          ]
        }
      ]
    },
    {
      "cell_type": "code",
      "metadata": {
        "colab": {
          "base_uri": "https://localhost:8080/"
        },
        "id": "_gEYwBSAOCU3",
        "outputId": "b952b7ec-635e-41b1-e02a-ba56b6d74efd"
      },
      "source": [
        "#Extension Solution\n",
        "cats = 10\n",
        "cans = 2\n",
        "days = 7\n",
        "total_cans = cats * cans * days\n",
        "msg = str(cats) + \" cats eat \" + str(total_cans) + \" cans in \" + str(days) + \" days\"\n",
        "print(msg)"
      ],
      "execution_count": 2,
      "outputs": [
        {
          "output_type": "stream",
          "name": "stdout",
          "text": [
            "10 cats eat 140 cans in 7 days\n"
          ]
        }
      ]
    },
    {
      "cell_type": "code",
      "metadata": {
        "colab": {
          "base_uri": "https://localhost:8080/"
        },
        "id": "F96FvOHYOZDc",
        "outputId": "dbaa7476-0e6a-419b-f674-58094998d32a"
      },
      "source": [
        "oranges = 12\n",
        "cost_per_orange = 0.5\n",
        "total_cost = oranges * cost_per_orange\n",
        "output = \"{} oranges costs £{}\".format(oranges, total_cost)\n",
        "print(output)"
      ],
      "execution_count": 3,
      "outputs": [
        {
          "output_type": "stream",
          "name": "stdout",
          "text": [
            "12 oranges costs £6.0\n"
          ]
        }
      ]
    },
    {
      "cell_type": "code",
      "metadata": {
        "colab": {
          "base_uri": "https://localhost:8080/"
        },
        "id": "tdPYfmGDOcj4",
        "outputId": "500cfd84-8ec1-4cd4-df9a-d1a01da8ace7"
      },
      "source": [
        "oranges = 12\n",
        "cost_per_orange = 0.5\n",
        "total_cost = oranges * cost_per_orange\n",
        "output = str(oranges) + \" oranges costs £\" + str(total_cost)\n",
        "print(output)"
      ],
      "execution_count": 4,
      "outputs": [
        {
          "output_type": "stream",
          "name": "stdout",
          "text": [
            "12 oranges costs £6.0\n"
          ]
        }
      ]
    },
    {
      "cell_type": "code",
      "metadata": {
        "colab": {
          "base_uri": "https://localhost:8080/"
        },
        "id": "PAgSRwBEOm7U",
        "outputId": "bb1ea00c-f342-4aeb-ef1c-05ce6c4a749d"
      },
      "source": [
        "#example of string formating\n",
        "user_name = 'sarah_1987'\n",
        "age = 23\n",
        "output = '{} is {} years old'.format(user_name, age)\n",
        "print(output)"
      ],
      "execution_count": 5,
      "outputs": [
        {
          "output_type": "stream",
          "name": "stdout",
          "text": [
            "sarah_1987 is 23 years old\n"
          ]
        }
      ]
    },
    {
      "cell_type": "code",
      "metadata": {
        "colab": {
          "base_uri": "https://localhost:8080/"
        },
        "id": "c-HDgJUuOu5m",
        "outputId": "e140f496-d218-4af6-8b53-ffbbc5232530"
      },
      "source": [
        "#solution\n",
        "cats = 10\n",
        "cans = 2\n",
        "total_cans = cats * cans\n",
        "output = \"{} cats eat {} cans\".format(cats, total_cans)\n",
        "print(output)"
      ],
      "execution_count": 6,
      "outputs": [
        {
          "output_type": "stream",
          "name": "stdout",
          "text": [
            "10 cats eat 20 cans\n"
          ]
        }
      ]
    },
    {
      "cell_type": "code",
      "metadata": {
        "id": "M9H-_cfxPRDw"
      },
      "source": [
        "#This program uses input to ask what your name is\n",
        "name = input('What is your name? ')\n",
        "print('Hello, {}'.format(name))"
      ],
      "execution_count": null,
      "outputs": []
    },
    {
      "cell_type": "code",
      "metadata": {
        "id": "PlO9lbNJTgSb"
      },
      "source": [
        "#The int() function converts string value into integer values:\n",
        "apples_string = '12'\n",
        "total_apples = int(apples_string) + 5\n",
        "print(total_apples)"
      ],
      "execution_count": null,
      "outputs": []
    },
    {
      "cell_type": "code",
      "metadata": {
        "id": "JS5PPbHlTmZ_"
      },
      "source": [
        "\n",
        "#The input() always returns a string value. You can convert this string value to an integer with\n",
        "#int() :\n",
        "purchased_apples = input('How many apples did you buy? ')\n",
        "total_apples = int(purchased_apples) + 5\n",
        "print(total_apples)"
      ],
      "execution_count": null,
      "outputs": []
    },
    {
      "cell_type": "code",
      "metadata": {
        "id": "ToTgBXcHUC0o"
      },
      "source": [
        "#Write a program calculate how many pizzas you need to feed you and your friends\n",
        "friends = int(input('How many friends are at your house? '))\n",
        "pizzas = friends * 0.5\n",
        "print('You need {} pizzas for {} friends'.format(pizzas, friends))"
      ],
      "execution_count": null,
      "outputs": []
    },
    {
      "cell_type": "code",
      "metadata": {
        "id": "dEcOgb7UUVe8"
      },
      "source": [
        "import turtle\n",
        "turtle.forward(100)\n",
        "turtle.right(130)\n",
        "turtle.forward(100)\n",
        "turtle.done()"
      ],
      "execution_count": null,
      "outputs": []
    },
    {
      "cell_type": "code",
      "metadata": {
        "id": "nCm_eMpGPYvZ"
      },
      "source": [
        "#A square has four sides and an angle of ninety degrees:\n",
        "import turtle\n",
        "turtle.forward(100)\n",
        "turtle.right(90)\n",
        "\n",
        "turtle.forward(100)\n",
        "turtle.right(90)\n",
        "\n",
        "turtle.forward(100)\n",
        "turtle.right(90)\n",
        "\n",
        "turtle.forward(100)\n",
        "turtle.right(90)\n",
        "\n",
        "turtle.done()"
      ],
      "execution_count": null,
      "outputs": []
    },
    {
      "cell_type": "code",
      "metadata": {
        "id": "aJL_WNsqWz1G"
      },
      "source": [
        "#Variables can be used to set the angles and size of your shapes:\n",
        "import turtle\n",
        "side_length = 200\n",
        "angle = 90\n",
        "turtle.forward(side_length)\n",
        "turtle.right(angle)\n",
        "\n",
        "turtle.forward(side_length)\n",
        "turtle.right(angle)\n",
        "\n",
        "turtle.forward(side_length)\n",
        "turtle.right(angle)\n",
        "\n",
        "turtle.forward(side_length)\n",
        "turtle.right(angle)\n",
        "\n",
        "turtle.done()"
      ],
      "execution_count": null,
      "outputs": []
    },
    {
      "cell_type": "code",
      "metadata": {
        "id": "IEklFCvNXB04"
      },
      "source": [
        "#You can play around with filling the shape and colors:\n",
        "import turtle\n",
        "side_length = 200\n",
        "angle = 90\n",
        "\n",
        "turtle.color('red', 'pink')\n",
        "turtle.begin_fill()\n",
        "\n",
        "turtle.forward(side_length)\n",
        "turtle.right(angle)\n",
        "\n",
        "turtle.forward(side_length)\n",
        "turtle.right(angle)\n",
        "\n",
        "turtle.forward(side_length)\n",
        "turtle.right(angle)\n",
        "\n",
        "turtle.forward(side_length)\n",
        "turtle.right(angle)\n",
        "\n",
        "turtle.end_fill()\n",
        "\n",
        "turtle.done()"
      ],
      "execution_count": null,
      "outputs": []
    },
    {
      "cell_type": "code",
      "metadata": {
        "id": "Lwk4C5YlXT1B"
      },
      "source": [
        "#Create a new file called triangle.py . Using turtle draw a triangle.\n",
        "#A triangle has three sides and an angle of 120 degrees\n",
        "import turtle\n",
        "side_length = 100\n",
        "angle = 120\n",
        "\n",
        "turtle.forward(side_length)\n",
        "turtle.right(angle)\n",
        "\n",
        "turtle.forward(side_length)\n",
        "turtle.right(angle)\n",
        "\n",
        "turtle.forward(side_length)\n",
        "turtle.right(angle)\n",
        "\n",
        "turtle.done()\n"
      ],
      "execution_count": null,
      "outputs": []
    },
    {
      "cell_type": "code",
      "metadata": {
        "id": "hnGLlP_yXs_v"
      },
      "source": [
        "import turtle\n",
        "side_length = 100\n",
        "angle = 120\n",
        "\n",
        "turtle.color('blue', 'blue')\n",
        "turtle.begin_fill()\n",
        "\n",
        "turtle.forward(side_length)\n",
        "turtle.right(angle)\n",
        "\n",
        "turtle.forward(side_length)\n",
        "turtle.right(angle)\n",
        "\n",
        "turtle.forward(side_length)\n",
        "turtle.right(angle)\n",
        "\n",
        "turtle.end_fill()\n",
        "turtle.done()"
      ],
      "execution_count": null,
      "outputs": []
    },
    {
      "cell_type": "code",
      "metadata": {
        "id": "THE30JKQYBE2"
      },
      "source": [
        "#Using a for loop you can simplify the program:\n",
        "import turtle\n",
        "\n",
        "side_length = 200\n",
        "angle = 90\n",
        "   \n",
        "    for side in range(4):\n",
        "    turtle.forward(side_length)\n",
        "    turtle.right(angle)\n",
        "\n",
        "turtle.done()"
      ],
      "execution_count": null,
      "outputs": []
    },
    {
      "cell_type": "code",
      "metadata": {
        "id": "GR6WXUxlYVV_"
      },
      "source": [
        "#Create a program that can draw shapes with any number of sides.\n",
        "import turtle\n",
        "sides = int(input('Number of sides: '))\n",
        "\n",
        "angle = 360 / sides\n",
        "side_length = 60\n",
        "\n",
        "      for side in range(sides):\n",
        "      turtle.forward(side_length)\n",
        "      turtle.right(angle)\n",
        "\n",
        "turtle.done()"
      ],
      "execution_count": null,
      "outputs": []
    },
    {
      "cell_type": "code",
      "metadata": {
        "id": "mqKpCVDRWeGM"
      },
      "source": [
        "#Create a function that draws a triangle using turtle.\n",
        "import turtle\n",
        "\n",
        "def triangle():\n",
        "    side_length = 100\n",
        "    angle = 120\n",
        "    \n",
        "    for side in range(3):\n",
        "        turtle.forward(side_length)\n",
        "        turtle.right(angle)\n",
        "\n",
        "triangle()"
      ],
      "execution_count": null,
      "outputs": []
    },
    {
      "cell_type": "code",
      "metadata": {
        "id": "ZP1e218aaJ2o"
      },
      "source": [
        "#Modify your triangle function so that you can set the side length using an argument\n",
        "#Extension: Use a second argument to set the colour of the triangle\n",
        "import turtle\n",
        "\n",
        "def triangle(side_length):\n",
        "    angle = 120\n",
        "    \n",
        "    for side in range(3):\n",
        "        turtle.forward(side_length)\n",
        "        turtle.right(angle)\n",
        "\n",
        "triangle(400)\n",
        "triangle(300)\n",
        "triangle(200)\n",
        "triangle(100)\n"
      ],
      "execution_count": null,
      "outputs": []
    },
    {
      "cell_type": "code",
      "metadata": {
        "id": "Av7Z0-0LdFa5"
      },
      "source": [
        "import turtle\n",
        "\n",
        "def triangle(side_length, colour):\n",
        "    angle = 120\n",
        "    turtle.color(colour, colour)\n",
        "    turtle.begin_fill()\n",
        "\n",
        "    for side in range(3):\n",
        "        turtle.forward(side_length)\n",
        "        turtle.right(angle)\n",
        "        turtle.end_fill()\n",
        "\n",
        "triangle(400, 'red')\n",
        "triangle(300, 'pink')\n",
        "triangle(200, 'blue')\n",
        "triangle(100, 'yellow')"
      ],
      "execution_count": null,
      "outputs": []
    },
    {
      "cell_type": "code",
      "metadata": {
        "id": "HmXvEvkIdzE0"
      },
      "source": [
        "#return the area of a circle\n",
        "def circle_area(radius):\n",
        "    area = 3.14 * (radius ** 2)\n",
        "    return area\n",
        "\n",
        "area = circle_area(9)\n",
        "print(area)"
      ],
      "execution_count": null,
      "outputs": []
    }
  ]
}